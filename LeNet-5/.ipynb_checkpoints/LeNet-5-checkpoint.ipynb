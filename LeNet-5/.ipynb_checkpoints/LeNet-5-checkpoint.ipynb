{
 "cells": [
  {
   "cell_type": "code",
   "execution_count": 1,
   "metadata": {},
   "outputs": [
    {
     "name": "stderr",
     "output_type": "stream",
     "text": [
      "Using TensorFlow backend.\n"
     ]
    }
   ],
   "source": [
    "from tensorflow.keras.datasets import mnist\n",
    "from keras.utils import np_utils\n",
    "import matplotlib.pyplot as plt\n",
    "import tensorflow as tf\n",
    "import numpy as np"
   ]
  },
  {
   "cell_type": "code",
   "execution_count": 2,
   "metadata": {},
   "outputs": [],
   "source": [
    "# Load the data\n",
    "(x_train, y_train), (x_test, y_test) = mnist.load_data()"
   ]
  },
  {
   "cell_type": "code",
   "execution_count": 3,
   "metadata": {},
   "outputs": [],
   "source": [
    "def add_padding(X):\n",
    "    X_padded = []\n",
    "    for x in X:\n",
    "        padding = np.zeros((32,32))\n",
    "        padding[2:-2, 2:-2] = x\n",
    "        X_padded.append(padding)\n",
    "    return np.array(X_padded)\n",
    "\n",
    "# Normalize\n",
    "x_train = tf.keras.utils.normalize(x_train, axis=1)\n",
    "x_test = tf.keras.utils.normalize(x_test, axis=1)\n",
    "\n",
    "## TODO: LOOK INTO THIS METHOD\n",
    "# np.pad(X_train, ((0,0),(2,2),(2,2),(0,0)), 'constant')\n",
    "\n",
    "# Add padding so image size is 32x32\n",
    "x_train = add_padding(x_train)\n",
    "x_test = add_padding(x_test)\n",
    "\n",
    "# Reshape the dataset into 4D array\n",
    "x_train = x_train.reshape(x_train.shape[0], 32, 32, 1)\n",
    "x_test = x_test.reshape(x_test.shape[0], 32, 32, 1)\n",
    "\n",
    "# # Transform lables to one-hot encoding\n",
    "# y_train = np_utils.to_categorical(y_train, 10)\n",
    "# y_test = np_utils.to_categorical(y_test, 10)"
   ]
  },
  {
   "cell_type": "code",
   "execution_count": 4,
   "metadata": {},
   "outputs": [
    {
     "name": "stdout",
     "output_type": "stream",
     "text": [
      "x_train[0].shape = (32, 32, 1)\n",
      "label = 5\n"
     ]
    },
    {
     "data": {
      "image/png": "[encoded data removed]",
      "text/plain": [
       "<Figure size 432x288 with 1 Axes>"
      ]
     },
     "metadata": {
      "needs_background": "light"
     },
     "output_type": "display_data"
    }
   ],
   "source": [
    "# Preview the data\n",
    "print(f'x_train[0].shape = {x_train[0].shape}')\n",
    "print(f'label = {y_train[0]}')\n",
    "plt.imshow(x_train[0].reshape(32,32), cmap=plt.cm.gray);"
   ]
  },
  {
   "cell_type": "code",
   "execution_count": 5,
   "metadata": {},
   "outputs": [
    {
     "data": {
      "text/plain": [
       "(60000, 32, 32, 1)"
      ]
     },
     "execution_count": 5,
     "metadata": {},
     "output_type": "execute_result"
    }
   ],
   "source": [
    "x_train.shape"
   ]
  },
  {
   "cell_type": "code",
   "execution_count": 6,
   "metadata": {},
   "outputs": [
    {
     "name": "stdout",
     "output_type": "stream",
     "text": [
      "Model: \"LeNet-5\"\n",
      "_________________________________________________________________\n",
      "Layer (type)                 Output Shape              Param #   \n",
      "=================================================================\n",
      "conv2d (Conv2D)              (None, 28, 28, 6)         156       \n",
      "_________________________________________________________________\n",
      "average_pooling2d (AveragePo (None, 14, 14, 6)         0         \n",
      "_________________________________________________________________\n",
      "conv2d_1 (Conv2D)            (None, 10, 10, 16)        2416      \n",
      "_________________________________________________________________\n",
      "average_pooling2d_1 (Average (None, 5, 5, 16)          0         \n",
      "_________________________________________________________________\n",
      "flatten (Flatten)            (None, 400)               0         \n",
      "_________________________________________________________________\n",
      "dense (Dense)                (None, 120)               48120     \n",
      "_________________________________________________________________\n",
      "dense_1 (Dense)              (None, 84)                10164     \n",
      "=================================================================\n",
      "Total params: 60,856\n",
      "Trainable params: 60,856\n",
      "Non-trainable params: 0\n",
      "_________________________________________________________________\n"
     ]
    }
   ],
   "source": [
    "input_shape=(32, 32, 1)\n",
    "\n",
    "# Define the model\n",
    "model = tf.keras.Sequential(name='LeNet-5')\n",
    "model.add(tf.keras.layers.Conv2D(filters=6, kernel_size=5, input_shape=input_shape, activation='tanh'))\n",
    "model.add(tf.keras.layers.AveragePooling2D(strides=2))\n",
    "model.add(tf.keras.layers.Conv2D(filters=16, kernel_size=5, activation='tanh'))\n",
    "model.add(tf.keras.layers.AveragePooling2D(strides=2))\n",
    "model.add(tf.keras.layers.Flatten())\n",
    "model.add(tf.keras.layers.Dense(units=120, activation='tanh'))\n",
    "model.add(tf.keras.layers.Dense(units=84, activation='softmax'))\n",
    "\n",
    "\n",
    "# Model summary\n",
    "model.summary()"
   ]
  },
  {
   "cell_type": "code",
   "execution_count": 12,
   "metadata": {},
   "outputs": [
    {
     "name": "stdout",
     "output_type": "stream",
     "text": [
      "Train on 60000 samples\n",
      "Epoch 1/15\n",
      "60000/60000 [==============================] - 1s 20us/sample - loss: 0.0176 - accuracy: 0.9951\n",
      "Epoch 2/15\n",
      "60000/60000 [==============================] - 1s 17us/sample - loss: 0.0151 - accuracy: 0.9960\n",
      "Epoch 3/15\n",
      "60000/60000 [==============================] - 1s 17us/sample - loss: 0.0132 - accuracy: 0.9966\n",
      "Epoch 4/15\n",
      "60000/60000 [==============================] - 1s 17us/sample - loss: 0.0114 - accuracy: 0.9970\n",
      "Epoch 5/15\n",
      "60000/60000 [==============================] - 1s 16us/sample - loss: 0.0103 - accuracy: 0.9974\n",
      "Epoch 6/15\n",
      "60000/60000 [==============================] - 1s 16us/sample - loss: 0.0079 - accuracy: 0.9982\n",
      "Epoch 7/15\n",
      "60000/60000 [==============================] - 1s 17us/sample - loss: 0.0069 - accuracy: 0.9985\n",
      "Epoch 8/15\n",
      "60000/60000 [==============================] - 1s 16us/sample - loss: 0.0067 - accuracy: 0.9985\n",
      "Epoch 9/15\n",
      "60000/60000 [==============================] - 1s 17us/sample - loss: 0.0061 - accuracy: 0.9987\n",
      "Epoch 10/15\n",
      "60000/60000 [==============================] - 1s 17us/sample - loss: 0.0054 - accuracy: 0.9990\n",
      "Epoch 11/15\n",
      "60000/60000 [==============================] - 1s 17us/sample - loss: 0.0042 - accuracy: 0.9992\n",
      "Epoch 12/15\n",
      "60000/60000 [==============================] - 1s 16us/sample - loss: 0.0039 - accuracy: 0.9994\n",
      "Epoch 13/15\n",
      "60000/60000 [==============================] - 1s 17us/sample - loss: 0.0033 - accuracy: 0.9994\n",
      "Epoch 14/15\n",
      "60000/60000 [==============================] - 1s 17us/sample - loss: 0.0041 - accuracy: 0.9992\n",
      "Epoch 15/15\n",
      "60000/60000 [==============================] - 1s 17us/sample - loss: 0.0021 - accuracy: 0.9998\n"
     ]
    }
   ],
   "source": [
    "# Compile and fit the model\n",
    "opt = tf.keras.optimizers.Adam(\n",
    "    learning_rate=0.001, beta_1=0.9, beta_2=0.999, epsilon=1e-07, amsgrad=False,\n",
    "    name='Adam')\n",
    "\n",
    "model.compile(optimizer=opt, loss='sparse_categorical_crossentropy', metrics=['accuracy'])\n",
    "hist = model.fit(x_train, y_train, epochs=15, batch_size=128);"
   ]
  },
  {
   "cell_type": "code",
   "execution_count": 13,
   "metadata": {},
   "outputs": [
    {
     "name": "stdout",
     "output_type": "stream",
     "text": [
      "10000/10000 [==============================] - 0s 41us/sample - loss: 0.0387 - accuracy: 0.9884\n"
     ]
    },
    {
     "data": {
      "text/plain": [
       "[0.03874541161603265, 0.9884]"
      ]
     },
     "execution_count": 13,
     "metadata": {},
     "output_type": "execute_result"
    }
   ],
   "source": [
    "# Evaluate the model\n",
    "model.evaluate(x_test, y_test)"
   ]
  },
  {
   "cell_type": "code",
   "execution_count": 14,
   "metadata": {},
   "outputs": [
    {
     "data": {
      "image/png": "[encoded data removed]",
      "text/plain": [
       "<Figure size 432x288 with 1 Axes>"
      ]
     },
     "metadata": {
      "needs_background": "light"
     },
     "output_type": "display_data"
    }
   ],
   "source": [
    "f, ax = plt.subplots()\n",
    "ax.plot([None] + hist.history['accuracy'], 'o-')\n",
    "# ax.plot([None] + hist.history['val_acc'], 'x-')\n",
    "\n",
    "# Plot legend and use the best location automatically: loc = 0.\n",
    "ax.legend(['Train acc'], loc=0)\n",
    "ax.set_title('Training/Validation acc per Epoch')\n",
    "ax.set_xlabel('Epoch')\n",
    "ax.set_ylabel('acc');"
   ]
  },
  {
   "cell_type": "code",
   "execution_count": 15,
   "metadata": {},
   "outputs": [
    {
     "data": {
      "image/png": "[encoded data removed]",
      "text/plain": [
       "<Figure size 432x288 with 1 Axes>"
      ]
     },
     "metadata": {
      "needs_background": "light"
     },
     "output_type": "display_data"
    }
   ],
   "source": [
    "import matplotlib.pyplot as plt\n",
    "f, ax = plt.subplots()\n",
    "ax.plot([None] + hist.history['loss'], 'o-')\n",
    "# ax.plot([None] + hist.history['val_loss'], 'x-')\n",
    "# Plot legend and use the best location automatically: loc = 0.\n",
    "ax.legend(['Train Loss'], loc = 0)\n",
    "ax.set_title('Training/Validation Loss per Epoch')\n",
    "ax.set_xlabel('Epoch')\n",
    "ax.set_ylabel('Loss');"
   ]
  },
  {
   "cell_type": "code",
   "execution_count": null,
   "metadata": {},
   "outputs": [],
   "source": []
  }
 ],
 "metadata": {
  "kernelspec": {
   "display_name": "Python 3",
   "language": "python",
   "name": "python3"
  },
  "language_info": {
   "codemirror_mode": {
    "name": "ipython",
    "version": 3
   },
   "file_extension": ".py",
   "mimetype": "text/x-python",
   "name": "python",
   "nbconvert_exporter": "python",
   "pygments_lexer": "ipython3",
   "version": "3.7.7"
  }
 },
 "nbformat": 4,
 "nbformat_minor": 4
}
